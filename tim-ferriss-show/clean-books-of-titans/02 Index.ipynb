{
 "cells": [
  {
   "cell_type": "code",
   "execution_count": 9,
   "metadata": {},
   "outputs": [],
   "source": [
    "import pickle\n",
    "import pandas as pd\n",
    "import recordlinkage\n",
    "\n",
    "from pprint import pprint\n",
    "from book_tools.index import Soundex"
   ]
  },
  {
   "cell_type": "code",
   "execution_count": 10,
   "metadata": {},
   "outputs": [],
   "source": [
    "%matplotlib inline\n",
    "import matplotlib.pyplot as plt\n",
    "plt.rcParams[\"figure.figsize\"] = (12, 9) # (w, h)"
   ]
  },
  {
   "cell_type": "code",
   "execution_count": 11,
   "metadata": {},
   "outputs": [
    {
     "data": {
      "text/html": [
       "<div>\n",
       "<style scoped>\n",
       "    .dataframe tbody tr th:only-of-type {\n",
       "        vertical-align: middle;\n",
       "    }\n",
       "\n",
       "    .dataframe tbody tr th {\n",
       "        vertical-align: top;\n",
       "    }\n",
       "\n",
       "    .dataframe thead th {\n",
       "        text-align: right;\n",
       "    }\n",
       "</style>\n",
       "<table border=\"1\" class=\"dataframe\">\n",
       "  <thead>\n",
       "    <tr style=\"text-align: right;\">\n",
       "      <th></th>\n",
       "      <th>book</th>\n",
       "      <th>author</th>\n",
       "      <th>num_authors</th>\n",
       "      <th>title</th>\n",
       "      <th>subtitle</th>\n",
       "      <th>author_1_given_name</th>\n",
       "      <th>author_1_middle_name</th>\n",
       "      <th>author_1_surname</th>\n",
       "      <th>author_2_given_name</th>\n",
       "      <th>author_2_middle_name</th>\n",
       "      <th>author_2_surname</th>\n",
       "    </tr>\n",
       "    <tr>\n",
       "      <th>uuid</th>\n",
       "      <th></th>\n",
       "      <th></th>\n",
       "      <th></th>\n",
       "      <th></th>\n",
       "      <th></th>\n",
       "      <th></th>\n",
       "      <th></th>\n",
       "      <th></th>\n",
       "      <th></th>\n",
       "      <th></th>\n",
       "      <th></th>\n",
       "    </tr>\n",
       "  </thead>\n",
       "  <tbody>\n",
       "    <tr>\n",
       "      <th>bot:0064c59e-fc4a-4255-945c-5ede8ce020e0</th>\n",
       "      <td>In Praise of Shadows</td>\n",
       "      <td>['Junichiro Tanizaki']</td>\n",
       "      <td>1</td>\n",
       "      <td>in praise of shadows</td>\n",
       "      <td></td>\n",
       "      <td>junichiro</td>\n",
       "      <td></td>\n",
       "      <td>tanizaki</td>\n",
       "      <td></td>\n",
       "      <td></td>\n",
       "      <td></td>\n",
       "    </tr>\n",
       "    <tr>\n",
       "      <th>bot:00823451-fa04-4ba1-9452-5df7daa16612</th>\n",
       "      <td>Oranges</td>\n",
       "      <td>['John McPhee']</td>\n",
       "      <td>1</td>\n",
       "      <td>oranges</td>\n",
       "      <td></td>\n",
       "      <td>john</td>\n",
       "      <td></td>\n",
       "      <td>mcphee</td>\n",
       "      <td></td>\n",
       "      <td></td>\n",
       "      <td></td>\n",
       "    </tr>\n",
       "    <tr>\n",
       "      <th>bot:00844fa2-9a46-4c21-9cd6-4c06d42f1686</th>\n",
       "      <td>Poor Charlie's Almanack</td>\n",
       "      <td>['Charles T. Munger']</td>\n",
       "      <td>1</td>\n",
       "      <td>poor charlies almanack</td>\n",
       "      <td></td>\n",
       "      <td>charles</td>\n",
       "      <td>t</td>\n",
       "      <td>munger</td>\n",
       "      <td></td>\n",
       "      <td></td>\n",
       "      <td></td>\n",
       "    </tr>\n",
       "    <tr>\n",
       "      <th>bot:008e53b1-6ef3-4c73-ae85-da0203562058</th>\n",
       "      <td>Awareness</td>\n",
       "      <td>['Anthony de Mello']</td>\n",
       "      <td>1</td>\n",
       "      <td>awareness</td>\n",
       "      <td></td>\n",
       "      <td>anthony</td>\n",
       "      <td></td>\n",
       "      <td>de mello</td>\n",
       "      <td></td>\n",
       "      <td></td>\n",
       "      <td></td>\n",
       "    </tr>\n",
       "    <tr>\n",
       "      <th>bot:00c8d9d8-f275-44c7-b3a4-7a3697eaa438</th>\n",
       "      <td>The ONE Thing: The Surprisingly Simple Truth B...</td>\n",
       "      <td>['Gary Keller', 'Jay Papasan']</td>\n",
       "      <td>2</td>\n",
       "      <td>the one thing</td>\n",
       "      <td>the surprisingly simple truth behind extraordi...</td>\n",
       "      <td>gary</td>\n",
       "      <td></td>\n",
       "      <td>keller</td>\n",
       "      <td>jay</td>\n",
       "      <td></td>\n",
       "      <td>papasan</td>\n",
       "    </tr>\n",
       "  </tbody>\n",
       "</table>\n",
       "</div>"
      ],
      "text/plain": [
       "                                                                                       book  \\\n",
       "uuid                                                                                          \n",
       "bot:0064c59e-fc4a-4255-945c-5ede8ce020e0                               In Praise of Shadows   \n",
       "bot:00823451-fa04-4ba1-9452-5df7daa16612                                            Oranges   \n",
       "bot:00844fa2-9a46-4c21-9cd6-4c06d42f1686                            Poor Charlie's Almanack   \n",
       "bot:008e53b1-6ef3-4c73-ae85-da0203562058                                          Awareness   \n",
       "bot:00c8d9d8-f275-44c7-b3a4-7a3697eaa438  The ONE Thing: The Surprisingly Simple Truth B...   \n",
       "\n",
       "                                                                  author  \\\n",
       "uuid                                                                       \n",
       "bot:0064c59e-fc4a-4255-945c-5ede8ce020e0          ['Junichiro Tanizaki']   \n",
       "bot:00823451-fa04-4ba1-9452-5df7daa16612                 ['John McPhee']   \n",
       "bot:00844fa2-9a46-4c21-9cd6-4c06d42f1686           ['Charles T. Munger']   \n",
       "bot:008e53b1-6ef3-4c73-ae85-da0203562058            ['Anthony de Mello']   \n",
       "bot:00c8d9d8-f275-44c7-b3a4-7a3697eaa438  ['Gary Keller', 'Jay Papasan']   \n",
       "\n",
       "                                          num_authors                   title  \\\n",
       "uuid                                                                            \n",
       "bot:0064c59e-fc4a-4255-945c-5ede8ce020e0            1    in praise of shadows   \n",
       "bot:00823451-fa04-4ba1-9452-5df7daa16612            1                 oranges   \n",
       "bot:00844fa2-9a46-4c21-9cd6-4c06d42f1686            1  poor charlies almanack   \n",
       "bot:008e53b1-6ef3-4c73-ae85-da0203562058            1               awareness   \n",
       "bot:00c8d9d8-f275-44c7-b3a4-7a3697eaa438            2           the one thing   \n",
       "\n",
       "                                                                                   subtitle  \\\n",
       "uuid                                                                                          \n",
       "bot:0064c59e-fc4a-4255-945c-5ede8ce020e0                                                      \n",
       "bot:00823451-fa04-4ba1-9452-5df7daa16612                                                      \n",
       "bot:00844fa2-9a46-4c21-9cd6-4c06d42f1686                                                      \n",
       "bot:008e53b1-6ef3-4c73-ae85-da0203562058                                                      \n",
       "bot:00c8d9d8-f275-44c7-b3a4-7a3697eaa438  the surprisingly simple truth behind extraordi...   \n",
       "\n",
       "                                         author_1_given_name  \\\n",
       "uuid                                                           \n",
       "bot:0064c59e-fc4a-4255-945c-5ede8ce020e0           junichiro   \n",
       "bot:00823451-fa04-4ba1-9452-5df7daa16612                john   \n",
       "bot:00844fa2-9a46-4c21-9cd6-4c06d42f1686             charles   \n",
       "bot:008e53b1-6ef3-4c73-ae85-da0203562058             anthony   \n",
       "bot:00c8d9d8-f275-44c7-b3a4-7a3697eaa438                gary   \n",
       "\n",
       "                                         author_1_middle_name  \\\n",
       "uuid                                                            \n",
       "bot:0064c59e-fc4a-4255-945c-5ede8ce020e0                        \n",
       "bot:00823451-fa04-4ba1-9452-5df7daa16612                        \n",
       "bot:00844fa2-9a46-4c21-9cd6-4c06d42f1686                    t   \n",
       "bot:008e53b1-6ef3-4c73-ae85-da0203562058                        \n",
       "bot:00c8d9d8-f275-44c7-b3a4-7a3697eaa438                        \n",
       "\n",
       "                                         author_1_surname author_2_given_name  \\\n",
       "uuid                                                                            \n",
       "bot:0064c59e-fc4a-4255-945c-5ede8ce020e0         tanizaki                       \n",
       "bot:00823451-fa04-4ba1-9452-5df7daa16612           mcphee                       \n",
       "bot:00844fa2-9a46-4c21-9cd6-4c06d42f1686           munger                       \n",
       "bot:008e53b1-6ef3-4c73-ae85-da0203562058         de mello                       \n",
       "bot:00c8d9d8-f275-44c7-b3a4-7a3697eaa438           keller                 jay   \n",
       "\n",
       "                                         author_2_middle_name author_2_surname  \n",
       "uuid                                                                            \n",
       "bot:0064c59e-fc4a-4255-945c-5ede8ce020e0                                        \n",
       "bot:00823451-fa04-4ba1-9452-5df7daa16612                                        \n",
       "bot:00844fa2-9a46-4c21-9cd6-4c06d42f1686                                        \n",
       "bot:008e53b1-6ef3-4c73-ae85-da0203562058                                        \n",
       "bot:00c8d9d8-f275-44c7-b3a4-7a3697eaa438                               papasan  "
      ]
     },
     "execution_count": 11,
     "metadata": {},
     "output_type": "execute_result"
    }
   ],
   "source": [
    "bot = pd.read_csv('01_cleaned_books_of_titans.csv', index_col=[0])\n",
    "bot = bot.fillna('')\n",
    "bot.head()"
   ]
  },
  {
   "cell_type": "code",
   "execution_count": 12,
   "metadata": {},
   "outputs": [
    {
     "data": {
      "text/plain": [
       "MultiIndex([('bot:00823451-fa04-4ba1-9452-5df7daa16612', ...),\n",
       "            ('bot:00844fa2-9a46-4c21-9cd6-4c06d42f1686', ...),\n",
       "            ('bot:00844fa2-9a46-4c21-9cd6-4c06d42f1686', ...),\n",
       "            ('bot:008e53b1-6ef3-4c73-ae85-da0203562058', ...),\n",
       "            ('bot:008e53b1-6ef3-4c73-ae85-da0203562058', ...),\n",
       "            ('bot:008e53b1-6ef3-4c73-ae85-da0203562058', ...),\n",
       "            ('bot:00d46fb6-dca3-4fa1-83a0-dafdc3a0daa0', ...),\n",
       "            ('bot:011ccb93-46d1-46e8-ac2b-4032f6f76f32', ...),\n",
       "            ('bot:011ccb93-46d1-46e8-ac2b-4032f6f76f32', ...),\n",
       "            ('bot:0120b65e-12e5-4b1f-873d-51fbe9bb0f21', ...),\n",
       "            ...\n",
       "            ('bot:fffa64e3-b782-48d7-af94-1041b95ba833', ...),\n",
       "            ('bot:fffa64e3-b782-48d7-af94-1041b95ba833', ...),\n",
       "            ('bot:fffa64e3-b782-48d7-af94-1041b95ba833', ...),\n",
       "            ('bot:fffa64e3-b782-48d7-af94-1041b95ba833', ...),\n",
       "            ('bot:fffa64e3-b782-48d7-af94-1041b95ba833', ...),\n",
       "            ('bot:fffa64e3-b782-48d7-af94-1041b95ba833', ...),\n",
       "            ('bot:fffa64e3-b782-48d7-af94-1041b95ba833', ...),\n",
       "            ('bot:fffa64e3-b782-48d7-af94-1041b95ba833', ...),\n",
       "            ('bot:fffa64e3-b782-48d7-af94-1041b95ba833', ...),\n",
       "            ('bot:fffa64e3-b782-48d7-af94-1041b95ba833', ...)],\n",
       "           names=['uuid_1', 'uuid_2'], length=78128)"
      ]
     },
     "execution_count": 12,
     "metadata": {},
     "output_type": "execute_result"
    }
   ],
   "source": [
    "# Index by Soundex\n",
    "indexer = recordlinkage.Index()\n",
    "indexer.add(Soundex('title'))\n",
    "indexer.add(Soundex('author_1_given_name'))\n",
    "indexer.add(Soundex('author_1_surname'))\n",
    "indexer.add(Soundex('author_2_given_name'))\n",
    "indexer.add(Soundex('author_2_surname'))\n",
    "candidate_pairs = indexer.index(bot)\n",
    "candidate_pairs"
   ]
  },
  {
   "cell_type": "code",
   "execution_count": 13,
   "metadata": {},
   "outputs": [],
   "source": [
    "# Write candidate pairs\n",
    "with open('02_candidate_pairs.p', 'wb') as outfile:\n",
    "    pickle.dump(candidate_pairs, outfile)"
   ]
  },
  {
   "cell_type": "code",
   "execution_count": 14,
   "metadata": {},
   "outputs": [
    {
     "data": {
      "text/plain": [
       "3837835"
      ]
     },
     "execution_count": 14,
     "metadata": {},
     "output_type": "execute_result"
    }
   ],
   "source": [
    "# Full comparison\n",
    "from scipy.special import comb\n",
    "full_comp = int(comb(len(bot), 2))\n",
    "full_comp"
   ]
  },
  {
   "cell_type": "code",
   "execution_count": 15,
   "metadata": {},
   "outputs": [
    {
     "data": {
      "text/plain": [
       "78128"
      ]
     },
     "execution_count": 15,
     "metadata": {},
     "output_type": "execute_result"
    }
   ],
   "source": [
    "# Reduced comparison\n",
    "red_comp = len(candidate_pairs)\n",
    "red_comp"
   ]
  },
  {
   "cell_type": "code",
   "execution_count": 16,
   "metadata": {},
   "outputs": [
    {
     "data": {
      "text/plain": [
       "97.9642689172411"
      ]
     },
     "execution_count": 16,
     "metadata": {},
     "output_type": "execute_result"
    }
   ],
   "source": [
    "# % Comparison Reduction\n",
    "100 - ((red_comp/full_comp)*100)"
   ]
  }
 ],
 "metadata": {
  "kernelspec": {
   "display_name": "book_tools",
   "language": "python",
   "name": "book_tools"
  },
  "language_info": {
   "codemirror_mode": {
    "name": "ipython",
    "version": 3
   },
   "file_extension": ".py",
   "mimetype": "text/x-python",
   "name": "python",
   "nbconvert_exporter": "python",
   "pygments_lexer": "ipython3",
   "version": "3.8.3"
  }
 },
 "nbformat": 4,
 "nbformat_minor": 4
}
