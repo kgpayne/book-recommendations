{
 "cells": [
  {
   "cell_type": "code",
   "execution_count": 145,
   "metadata": {},
   "outputs": [
    {
     "name": "stdout",
     "output_type": "stream",
     "text": [
      "The autoreload extension is already loaded. To reload it, use:\n",
      "  %reload_ext autoreload\n"
     ]
    }
   ],
   "source": [
    "%load_ext autoreload"
   ]
  },
  {
   "cell_type": "code",
   "execution_count": 146,
   "metadata": {},
   "outputs": [],
   "source": [
    "%autoreload 2"
   ]
  },
  {
   "cell_type": "code",
   "execution_count": 147,
   "metadata": {},
   "outputs": [],
   "source": [
    "import pickle\n",
    "import pandas as pd\n",
    "import recordlinkage\n",
    "from pprint import pprint"
   ]
  },
  {
   "cell_type": "code",
   "execution_count": 148,
   "metadata": {},
   "outputs": [],
   "source": [
    "from book_tools.compare import TFIDF"
   ]
  },
  {
   "cell_type": "code",
   "execution_count": 149,
   "metadata": {},
   "outputs": [],
   "source": [
    "bot = pd.read_csv('01_books_of_titans_clean.csv', index_col=[0])\n",
    "bot = bot.fillna('')\n",
    "# bot.head(1)"
   ]
  },
  {
   "cell_type": "code",
   "execution_count": 150,
   "metadata": {},
   "outputs": [],
   "source": [
    "aud = pd.read_csv('01_audiobooks_clean.csv', index_col=[0])\n",
    "aud = aud.fillna('')\n",
    "# aud.head(1)"
   ]
  },
  {
   "cell_type": "code",
   "execution_count": 151,
   "metadata": {},
   "outputs": [],
   "source": [
    "# Read candidate pairs\n",
    "with open('02_candidate_pairs.p', 'rb') as infile:\n",
    "    candidate_pairs = pickle.load(infile)"
   ]
  },
  {
   "cell_type": "code",
   "execution_count": 152,
   "metadata": {},
   "outputs": [
    {
     "data": {
      "text/html": [
       "<div>\n",
       "<style scoped>\n",
       "    .dataframe tbody tr th:only-of-type {\n",
       "        vertical-align: middle;\n",
       "    }\n",
       "\n",
       "    .dataframe tbody tr th {\n",
       "        vertical-align: top;\n",
       "    }\n",
       "\n",
       "    .dataframe thead th {\n",
       "        text-align: right;\n",
       "    }\n",
       "</style>\n",
       "<table border=\"1\" class=\"dataframe\">\n",
       "  <thead>\n",
       "    <tr style=\"text-align: right;\">\n",
       "      <th></th>\n",
       "      <th></th>\n",
       "      <th>title</th>\n",
       "      <th>subtitle</th>\n",
       "      <th>author_1_given_name</th>\n",
       "      <th>author_1_middle_name</th>\n",
       "      <th>author_1_surname</th>\n",
       "      <th>author_2_given_name</th>\n",
       "      <th>author_2_middle_name</th>\n",
       "      <th>author_2_surname</th>\n",
       "    </tr>\n",
       "    <tr>\n",
       "      <th>uuid_1</th>\n",
       "      <th>uuid_2</th>\n",
       "      <th></th>\n",
       "      <th></th>\n",
       "      <th></th>\n",
       "      <th></th>\n",
       "      <th></th>\n",
       "      <th></th>\n",
       "      <th></th>\n",
       "      <th></th>\n",
       "    </tr>\n",
       "  </thead>\n",
       "  <tbody>\n",
       "    <tr>\n",
       "      <th>bot:00685999-1754-4316-951b-f9f77bbd0605</th>\n",
       "      <th>aud:192fde47-5f76-408a-b936-b1a59c1413a9</th>\n",
       "      <td>0.316890</td>\n",
       "      <td>0.0</td>\n",
       "      <td>0.0</td>\n",
       "      <td>0.0</td>\n",
       "      <td>0.0</td>\n",
       "      <td>0.0</td>\n",
       "      <td>0.0</td>\n",
       "      <td>0.0</td>\n",
       "    </tr>\n",
       "    <tr>\n",
       "      <th>bot:013010a4-0f9c-4c29-94cc-f72d9e2e8b4c</th>\n",
       "      <th>aud:3048a828-349f-49f6-b111-a5da007ee2ca</th>\n",
       "      <td>1.000000</td>\n",
       "      <td>0.0</td>\n",
       "      <td>1.0</td>\n",
       "      <td>0.0</td>\n",
       "      <td>1.0</td>\n",
       "      <td>0.0</td>\n",
       "      <td>0.0</td>\n",
       "      <td>0.0</td>\n",
       "    </tr>\n",
       "    <tr>\n",
       "      <th>bot:02706bb7-fca5-44a4-a4ff-52d62abf49c7</th>\n",
       "      <th>aud:bf4936f8-feba-4db2-9906-982ad4b8d2c2</th>\n",
       "      <td>0.400639</td>\n",
       "      <td>0.0</td>\n",
       "      <td>0.0</td>\n",
       "      <td>0.0</td>\n",
       "      <td>0.0</td>\n",
       "      <td>0.0</td>\n",
       "      <td>0.0</td>\n",
       "      <td>0.0</td>\n",
       "    </tr>\n",
       "    <tr>\n",
       "      <th rowspan=\"2\" valign=\"top\">bot:02ac0dc5-f56b-4487-abd7-5f9f598c9ac7</th>\n",
       "      <th>aud:22b466bf-5864-453d-ab1d-7c5b894c26f1</th>\n",
       "      <td>0.108584</td>\n",
       "      <td>0.0</td>\n",
       "      <td>0.0</td>\n",
       "      <td>0.0</td>\n",
       "      <td>0.0</td>\n",
       "      <td>0.0</td>\n",
       "      <td>0.0</td>\n",
       "      <td>0.0</td>\n",
       "    </tr>\n",
       "    <tr>\n",
       "      <th>aud:d08faf8e-c2b5-4126-a9df-cf42b084f78b</th>\n",
       "      <td>0.153245</td>\n",
       "      <td>0.0</td>\n",
       "      <td>0.0</td>\n",
       "      <td>0.0</td>\n",
       "      <td>0.0</td>\n",
       "      <td>0.0</td>\n",
       "      <td>0.0</td>\n",
       "      <td>0.0</td>\n",
       "    </tr>\n",
       "  </tbody>\n",
       "</table>\n",
       "</div>"
      ],
      "text/plain": [
       "                                                                                      title  \\\n",
       "uuid_1                                   uuid_2                                               \n",
       "bot:00685999-1754-4316-951b-f9f77bbd0605 aud:192fde47-5f76-408a-b936-b1a59c1413a9  0.316890   \n",
       "bot:013010a4-0f9c-4c29-94cc-f72d9e2e8b4c aud:3048a828-349f-49f6-b111-a5da007ee2ca  1.000000   \n",
       "bot:02706bb7-fca5-44a4-a4ff-52d62abf49c7 aud:bf4936f8-feba-4db2-9906-982ad4b8d2c2  0.400639   \n",
       "bot:02ac0dc5-f56b-4487-abd7-5f9f598c9ac7 aud:22b466bf-5864-453d-ab1d-7c5b894c26f1  0.108584   \n",
       "                                         aud:d08faf8e-c2b5-4126-a9df-cf42b084f78b  0.153245   \n",
       "\n",
       "                                                                                   subtitle  \\\n",
       "uuid_1                                   uuid_2                                               \n",
       "bot:00685999-1754-4316-951b-f9f77bbd0605 aud:192fde47-5f76-408a-b936-b1a59c1413a9       0.0   \n",
       "bot:013010a4-0f9c-4c29-94cc-f72d9e2e8b4c aud:3048a828-349f-49f6-b111-a5da007ee2ca       0.0   \n",
       "bot:02706bb7-fca5-44a4-a4ff-52d62abf49c7 aud:bf4936f8-feba-4db2-9906-982ad4b8d2c2       0.0   \n",
       "bot:02ac0dc5-f56b-4487-abd7-5f9f598c9ac7 aud:22b466bf-5864-453d-ab1d-7c5b894c26f1       0.0   \n",
       "                                         aud:d08faf8e-c2b5-4126-a9df-cf42b084f78b       0.0   \n",
       "\n",
       "                                                                                   author_1_given_name  \\\n",
       "uuid_1                                   uuid_2                                                          \n",
       "bot:00685999-1754-4316-951b-f9f77bbd0605 aud:192fde47-5f76-408a-b936-b1a59c1413a9                  0.0   \n",
       "bot:013010a4-0f9c-4c29-94cc-f72d9e2e8b4c aud:3048a828-349f-49f6-b111-a5da007ee2ca                  1.0   \n",
       "bot:02706bb7-fca5-44a4-a4ff-52d62abf49c7 aud:bf4936f8-feba-4db2-9906-982ad4b8d2c2                  0.0   \n",
       "bot:02ac0dc5-f56b-4487-abd7-5f9f598c9ac7 aud:22b466bf-5864-453d-ab1d-7c5b894c26f1                  0.0   \n",
       "                                         aud:d08faf8e-c2b5-4126-a9df-cf42b084f78b                  0.0   \n",
       "\n",
       "                                                                                   author_1_middle_name  \\\n",
       "uuid_1                                   uuid_2                                                           \n",
       "bot:00685999-1754-4316-951b-f9f77bbd0605 aud:192fde47-5f76-408a-b936-b1a59c1413a9                   0.0   \n",
       "bot:013010a4-0f9c-4c29-94cc-f72d9e2e8b4c aud:3048a828-349f-49f6-b111-a5da007ee2ca                   0.0   \n",
       "bot:02706bb7-fca5-44a4-a4ff-52d62abf49c7 aud:bf4936f8-feba-4db2-9906-982ad4b8d2c2                   0.0   \n",
       "bot:02ac0dc5-f56b-4487-abd7-5f9f598c9ac7 aud:22b466bf-5864-453d-ab1d-7c5b894c26f1                   0.0   \n",
       "                                         aud:d08faf8e-c2b5-4126-a9df-cf42b084f78b                   0.0   \n",
       "\n",
       "                                                                                   author_1_surname  \\\n",
       "uuid_1                                   uuid_2                                                       \n",
       "bot:00685999-1754-4316-951b-f9f77bbd0605 aud:192fde47-5f76-408a-b936-b1a59c1413a9               0.0   \n",
       "bot:013010a4-0f9c-4c29-94cc-f72d9e2e8b4c aud:3048a828-349f-49f6-b111-a5da007ee2ca               1.0   \n",
       "bot:02706bb7-fca5-44a4-a4ff-52d62abf49c7 aud:bf4936f8-feba-4db2-9906-982ad4b8d2c2               0.0   \n",
       "bot:02ac0dc5-f56b-4487-abd7-5f9f598c9ac7 aud:22b466bf-5864-453d-ab1d-7c5b894c26f1               0.0   \n",
       "                                         aud:d08faf8e-c2b5-4126-a9df-cf42b084f78b               0.0   \n",
       "\n",
       "                                                                                   author_2_given_name  \\\n",
       "uuid_1                                   uuid_2                                                          \n",
       "bot:00685999-1754-4316-951b-f9f77bbd0605 aud:192fde47-5f76-408a-b936-b1a59c1413a9                  0.0   \n",
       "bot:013010a4-0f9c-4c29-94cc-f72d9e2e8b4c aud:3048a828-349f-49f6-b111-a5da007ee2ca                  0.0   \n",
       "bot:02706bb7-fca5-44a4-a4ff-52d62abf49c7 aud:bf4936f8-feba-4db2-9906-982ad4b8d2c2                  0.0   \n",
       "bot:02ac0dc5-f56b-4487-abd7-5f9f598c9ac7 aud:22b466bf-5864-453d-ab1d-7c5b894c26f1                  0.0   \n",
       "                                         aud:d08faf8e-c2b5-4126-a9df-cf42b084f78b                  0.0   \n",
       "\n",
       "                                                                                   author_2_middle_name  \\\n",
       "uuid_1                                   uuid_2                                                           \n",
       "bot:00685999-1754-4316-951b-f9f77bbd0605 aud:192fde47-5f76-408a-b936-b1a59c1413a9                   0.0   \n",
       "bot:013010a4-0f9c-4c29-94cc-f72d9e2e8b4c aud:3048a828-349f-49f6-b111-a5da007ee2ca                   0.0   \n",
       "bot:02706bb7-fca5-44a4-a4ff-52d62abf49c7 aud:bf4936f8-feba-4db2-9906-982ad4b8d2c2                   0.0   \n",
       "bot:02ac0dc5-f56b-4487-abd7-5f9f598c9ac7 aud:22b466bf-5864-453d-ab1d-7c5b894c26f1                   0.0   \n",
       "                                         aud:d08faf8e-c2b5-4126-a9df-cf42b084f78b                   0.0   \n",
       "\n",
       "                                                                                   author_2_surname  \n",
       "uuid_1                                   uuid_2                                                      \n",
       "bot:00685999-1754-4316-951b-f9f77bbd0605 aud:192fde47-5f76-408a-b936-b1a59c1413a9               0.0  \n",
       "bot:013010a4-0f9c-4c29-94cc-f72d9e2e8b4c aud:3048a828-349f-49f6-b111-a5da007ee2ca               0.0  \n",
       "bot:02706bb7-fca5-44a4-a4ff-52d62abf49c7 aud:bf4936f8-feba-4db2-9906-982ad4b8d2c2               0.0  \n",
       "bot:02ac0dc5-f56b-4487-abd7-5f9f598c9ac7 aud:22b466bf-5864-453d-ab1d-7c5b894c26f1               0.0  \n",
       "                                         aud:d08faf8e-c2b5-4126-a9df-cf42b084f78b               0.0  "
      ]
     },
     "execution_count": 152,
     "metadata": {},
     "output_type": "execute_result"
    }
   ],
   "source": [
    "# This cell can take some time to compute.\n",
    "comparer = recordlinkage.Compare()\n",
    "\n",
    "comparer.add(TFIDF('title', 'title', label='title'))\n",
    "comparer.add(TFIDF('subtitle', 'subtitle', label='subtitle'))\n",
    "\n",
    "comparer.add(TFIDF('author_1_given_name', 'author_1_given_name', label='author_1_given_name'))\n",
    "comparer.add(TFIDF('author_1_middle_name', 'author_1_middle_name', label='author_1_middle_name'))\n",
    "comparer.add(TFIDF('author_1_surname', 'author_1_surname', label='author_1_surname'))\n",
    "\n",
    "comparer.add(TFIDF('author_2_given_name', 'author_2_given_name', label='author_2_given_name'))\n",
    "comparer.add(TFIDF('author_2_middle_name', 'author_2_middle_name', label='author_2_middle_name'))\n",
    "comparer.add(TFIDF('author_2_surname', 'author_2_surname', label='author_2_surname'))\n",
    "\n",
    "features = comparer.compute(candidate_pairs, bot, aud)\n",
    "features.head(5)"
   ]
  },
  {
   "cell_type": "code",
   "execution_count": 153,
   "metadata": {},
   "outputs": [],
   "source": [
    "# Write Raw Comparison Scores to CSV\n",
    "features.to_csv('03_comparison_results.csv')"
   ]
  }
 ],
 "metadata": {
  "kernelspec": {
   "display_name": "record_linkage",
   "language": "python",
   "name": "record_linkage"
  },
  "language_info": {
   "codemirror_mode": {
    "name": "ipython",
    "version": 3
   },
   "file_extension": ".py",
   "mimetype": "text/x-python",
   "name": "python",
   "nbconvert_exporter": "python",
   "pygments_lexer": "ipython3",
   "version": "3.8.3"
  }
 },
 "nbformat": 4,
 "nbformat_minor": 4
}
